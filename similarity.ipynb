{
 "cells": [
  {
   "cell_type": "code",
   "execution_count": 32,
   "metadata": {},
   "outputs": [],
   "source": [
    "import cv2\n",
    "import numpy as np\n",
    "from skimage.metrics import structural_similarity as ssim\n",
    "from scipy.spatial.distance import cosine\n",
    "\n",
    "# Load images\n",
    "image1_path = \"./dataset/train/wedo/wedo_9.jpeg\"\n",
    "image2_path = \"./dataset/train/wedo/wedo_13.jpeg\""
   ]
  },
  {
   "cell_type": "code",
   "execution_count": 33,
   "metadata": {},
   "outputs": [],
   "source": [
    "def histogram_similarity(image1, image2):\n",
    "    # Convert images to grayscale\n",
    "    hist_img1 = cv2.calcHist([image1], [0, 1, 2], None, [256, 256, 256], [0, 256, 0, 256, 0, 256])\n",
    "    hist_img1[255, 255, 255] = 0 #ignore all white pixels\n",
    "    cv2.normalize(hist_img1, hist_img1, alpha=0, beta=1, norm_type=cv2.NORM_MINMAX)\n",
    "    hist_img2 = cv2.calcHist([image2], [0, 1, 2], None, [256, 256, 256], [0, 256, 0, 256, 0, 256])\n",
    "    hist_img2[255, 255, 255] = 0  #ignore all white pixels\n",
    "    cv2.normalize(hist_img2, hist_img2, alpha=0, beta=1, norm_type=cv2.NORM_MINMAX)\n",
    "\n",
    "    # Calculate histogram intersection\n",
    "    hist_intersection = cv2.compareHist(hist_img1, hist_img2, cv2.HISTCMP_CORREL)\n",
    "    \n",
    "    return hist_intersection\n",
    "\n",
    "def ssim_similarity(image1, image2):\n",
    "    # Convert images to grayscale\n",
    "    image2 = cv2.resize(image2, (image1.shape[1], image1.shape[0]), interpolation = cv2.INTER_AREA)\n",
    "    print(image1.shape, image2.shape)\n",
    "    gray1 = cv2.cvtColor(image1, cv2.COLOR_BGR2GRAY)\n",
    "    gray2 = cv2.cvtColor(image2, cv2.COLOR_BGR2GRAY)\n",
    "    \n",
    "    # Calculate SSIM\n",
    "    ssim_index, _ = ssim(gray1, gray2, full=True)\n",
    "    \n",
    "    return ssim_index\n",
    "\n",
    "def mse_similarity(image1, image2):\n",
    "    # Convert images to grayscale\n",
    "    image2 = cv2.resize(image2, (image1.shape[1], image1.shape[0]), interpolation = cv2.INTER_AREA)\n",
    "    gray1 = cv2.cvtColor(image1, cv2.COLOR_BGR2GRAY)\n",
    "    gray2 = cv2.cvtColor(image2, cv2.COLOR_BGR2GRAY)\n",
    "    \n",
    "    # Calculate MSE\n",
    "    mse = np.mean((gray1 - gray2) ** 2)\n",
    "    \n",
    "    return mse\n",
    "\n",
    "def psnr(image1, image2):\n",
    "    image2 = cv2.resize(image2, (image1.shape[1], image1.shape[0]), interpolation = cv2.INTER_AREA)\n",
    "    # Convert images to float32\n",
    "    image1 = image1.astype(np.float32)\n",
    "    image2 = image2.astype(np.float32)\n",
    "    \n",
    "    # Calculate squared difference\n",
    "    squared_diff = (image1 - image2) ** 2\n",
    "    \n",
    "    # Calculate mean squared error\n",
    "    mse = np.mean(squared_diff)\n",
    "    \n",
    "    # Calculate maximum pixel value\n",
    "    max_pixel = np.max(image1)\n",
    "    \n",
    "    # Calculate PSNR\n",
    "    psnr_value = 20 * np.log10(max_pixel / np.sqrt(mse))\n",
    "    \n",
    "    return psnr_value\n",
    "\n",
    "def cosine_similarity(image1, image2):\n",
    "    # Flatten images\n",
    "    image2 = cv2.resize(image2, (image1.shape[1], image1.shape[0]), interpolation = cv2.INTER_AREA)\n",
    "    flat_image1 = image1.flatten()\n",
    "    flat_image2 = image2.flatten()\n",
    "    \n",
    "    # Calculate cosine similarity\n",
    "    cosine_sim = 1 - cosine(flat_image1, flat_image2)\n",
    "    \n",
    "    return cosine_sim"
   ]
  },
  {
   "cell_type": "code",
   "execution_count": 34,
   "metadata": {},
   "outputs": [
    {
     "name": "stdout",
     "output_type": "stream",
     "text": [
      "(1800, 2034, 3) (1800, 2034, 3)\n",
      "Histogram Similarity: 0.0541776724357846\n",
      "SSIM Similarity: 0.37704129916562235\n",
      "MSE Similarity: 104.66067027204195\n",
      "Cosine Similarity: 0.8932247369323221\n",
      "PSNR: 11.009584665298462\n"
     ]
    }
   ],
   "source": [
    "# Load images\n",
    "image1 = cv2.imread(image1_path)\n",
    "image2 = cv2.imread(image2_path)\n",
    "\n",
    "# Calculate similarities\n",
    "hist_similarity = histogram_similarity(image1, image2)\n",
    "ssim_similarity_val = ssim_similarity(image1, image2)\n",
    "mse_similarity_val = mse_similarity(image1, image2)\n",
    "cosine_similarity_val = cosine_similarity(image1, image2)\n",
    "psnr_value = psnr(image1, image2)\n",
    "\n",
    "print(\"Histogram Similarity:\", hist_similarity)\n",
    "print(\"SSIM Similarity:\", ssim_similarity_val)\n",
    "print(\"MSE Similarity:\", mse_similarity_val)\n",
    "print(\"Cosine Similarity:\", cosine_similarity_val)\n",
    "print(\"PSNR:\", psnr_value)"
   ]
  },
  {
   "cell_type": "code",
   "execution_count": 35,
   "metadata": {},
   "outputs": [
    {
     "name": "stdout",
     "output_type": "stream",
     "text": [
      "similarity Score:  66.26\n"
     ]
    }
   ],
   "source": [
    "import torch\n",
    "import open_clip\n",
    "import cv2\n",
    "from sentence_transformers import util\n",
    "from PIL import Image\n",
    "# image processing model\n",
    "device = \"cuda\" if torch.cuda.is_available() else \"cpu\"\n",
    "model, _, preprocess = open_clip.create_model_and_transforms('ViT-B-16-plus-240', pretrained=\"laion400m_e32\")\n",
    "model.to(device)\n",
    "def imageEncoder(img):\n",
    "    img1 = Image.fromarray(img).convert('RGB')\n",
    "    img1 = preprocess(img1).unsqueeze(0).to(device)\n",
    "    img1 = model.encode_image(img1)\n",
    "    return img1\n",
    "def generateScore(image1, image2):\n",
    "    test_img = cv2.imread(image1_path, cv2.IMREAD_UNCHANGED)\n",
    "    data_img = cv2.imread(image2_path, cv2.IMREAD_UNCHANGED)\n",
    "    img1 = imageEncoder(test_img)\n",
    "    img2 = imageEncoder(data_img)\n",
    "    cos_scores = util.pytorch_cos_sim(img1, img2)\n",
    "    score = round(float(cos_scores[0][0])*100, 2)\n",
    "    return score\n",
    "print(f\"similarity Score: \", round(generateScore(image1, image2), 2))"
   ]
  },
  {
   "cell_type": "code",
   "execution_count": null,
   "metadata": {},
   "outputs": [],
   "source": []
  }
 ],
 "metadata": {
  "kernelspec": {
   "display_name": "mi",
   "language": "python",
   "name": "python3"
  },
  "language_info": {
   "codemirror_mode": {
    "name": "ipython",
    "version": 3
   },
   "file_extension": ".py",
   "mimetype": "text/x-python",
   "name": "python",
   "nbconvert_exporter": "python",
   "pygments_lexer": "ipython3",
   "version": "3.10.13"
  }
 },
 "nbformat": 4,
 "nbformat_minor": 2
}
